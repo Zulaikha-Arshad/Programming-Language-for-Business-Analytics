{
 "cells": [
  {
   "cell_type": "code",
   "execution_count": 7,
   "id": "92a55a4a-14af-4ead-8f9a-9c63f327ed50",
   "metadata": {},
   "outputs": [
    {
     "name": "stdout",
     "output_type": "stream",
     "text": [
      "yodhe\n",
      "animal\n",
      "hacked\n",
      "the movie hacked is at 0 index\n",
      "the movie hacked is at 1 index\n",
      "the movie hacked is at 2 index\n"
     ]
    }
   ],
   "source": [
    "movies=['yodhe','animal','hacked']\n",
    "for movie in movies:\n",
    "    print(movie)\n",
    "for index in range(3):\n",
    "    print(f\"the movie {movie} is at {index} index\")"
   ]
  },
  {
   "cell_type": "code",
   "execution_count": 23,
   "id": "94bb560f-e779-40d5-9b5d-e682a93d6651",
   "metadata": {},
   "outputs": [
    {
     "name": "stdout",
     "output_type": "stream",
     "text": [
      "z\n",
      "u\n",
      "l\n",
      "a\n",
      "i\n",
      "k\n",
      "h\n",
      "a\n",
      "4\n"
     ]
    }
   ],
   "source": [
    "string='zulaikha'\n",
    "for name in string:\n",
    "    print(name)\n",
    "vowel='aeiou'\n",
    "count=0\n",
    "for name in string:\n",
    "    if name in vowel:\n",
    "        count +=1\n",
    "print(count)"
   ]
  },
  {
   "cell_type": "code",
   "execution_count": 3,
   "id": "293436e8-77ab-42bf-b1f5-4ee2c3e41190",
   "metadata": {},
   "outputs": [
    {
     "name": "stdout",
     "output_type": "stream",
     "text": [
      "Alice85\n",
      "Bob92\n",
      "Charlie88\n",
      "David95\n",
      "Eve90\n",
      "David\n"
     ]
    }
   ],
   "source": [
    "student_grades = {\n",
    "    \"Alice\": 85,\n",
    "    \"Bob\": 92,\n",
    "    \"Charlie\": 88,\n",
    "    \"David\": 95,\n",
    "    \"Eve\": 90\n",
    "}\n",
    "for student,grade in student_grades.items():\n",
    "    print(f\"{student}{grade}\")\n",
    "high_grade=max(student_grades,key=student_grades.get)\n",
    "print(high_grade)"
   ]
  },
  {
   "cell_type": "code",
   "execution_count": 5,
   "id": "c719112c-911c-43a2-aca0-8fa1042f791d",
   "metadata": {},
   "outputs": [
    {
     "name": "stdout",
     "output_type": "stream",
     "text": [
      "Matrix elements:\n",
      "1 2 3 \n",
      "4 5 6 \n",
      "7 8 9 \n",
      "\n",
      "Sum of all elements in the matrix: 45\n"
     ]
    }
   ],
   "source": [
    "matrix = [\n",
    "    [1, 2, 3],\n",
    "    [4, 5, 6],\n",
    "    [7, 8, 9]\n",
    "]\n",
    "print(\"Matrix elements:\")\n",
    "for row in matrix:\n",
    "    for element in row:\n",
    "        print(element, end=' ')\n",
    "    print()\n",
    "total_sum = 0\n",
    "for row in matrix:\n",
    "    total_sum += sum(row)  \n",
    "print(\"\\nSum of all elements in the matrix:\", total_sum)"
   ]
  },
  {
   "cell_type": "code",
   "execution_count": 7,
   "id": "f2343f05-4a2b-4712-b69d-40759aad4599",
   "metadata": {},
   "outputs": [
    {
     "name": "stdout",
     "output_type": "stream",
     "text": [
      "[1, 4, 9, 16, 25, 36, 49, 64, 81, 100]\n"
     ]
    }
   ],
   "source": [
    "squares = [i**2 for i in range(1, 11)]\n",
    "print(squares)"
   ]
  },
  {
   "cell_type": "code",
   "execution_count": null,
   "id": "cc9c036a-a05f-4aba-a325-e441e9038fce",
   "metadata": {},
   "outputs": [],
   "source": [
    "#while loop"
   ]
  },
  {
   "cell_type": "code",
   "execution_count": 9,
   "id": "1950a2e2-7c42-4e7b-8f4a-ec0f9e02aec1",
   "metadata": {},
   "outputs": [
    {
     "name": "stdout",
     "output_type": "stream",
     "text": [
      "1\n",
      "2\n",
      "3\n",
      "4\n",
      "5\n",
      "6\n",
      "7\n",
      "8\n",
      "9\n",
      "10\n"
     ]
    }
   ],
   "source": [
    "counter = 1\n",
    "while counter <= 10:\n",
    "    print(counter) \n",
    "    counter += 1     "
   ]
  },
  {
   "cell_type": "code",
   "execution_count": 11,
   "id": "52741145-d1cc-49c5-8870-d88e5ada9b84",
   "metadata": {},
   "outputs": [
    {
     "name": "stdout",
     "output_type": "stream",
     "text": [
      "2\n",
      "4\n",
      "6\n",
      "8\n",
      "10\n",
      "12\n",
      "14\n",
      "16\n",
      "18\n",
      "20\n"
     ]
    }
   ],
   "source": [
    "number =2\n",
    "while number <= 20:\n",
    "    print(number) \n",
    "    number += 2 "
   ]
  },
  {
   "cell_type": "code",
   "execution_count": 13,
   "id": "e5f862be-0645-47de-b661-46596e009dfb",
   "metadata": {},
   "outputs": [
    {
     "name": "stdout",
     "output_type": "stream",
     "text": [
      "Sum of the first 10 natural numbers: 55\n"
     ]
    }
   ],
   "source": [
    "counter = 1\n",
    "total_sum = 0\n",
    "while counter <= 10:\n",
    "    total_sum += counter \n",
    "    counter += 1           \n",
    "print(\"Sum of the first 10 natural numbers:\", total_sum)"
   ]
  },
  {
   "cell_type": "code",
   "execution_count": 15,
   "id": "97123494-31b5-4f17-ba2e-6a3468c77629",
   "metadata": {},
   "outputs": [
    {
     "name": "stdin",
     "output_type": "stream",
     "text": [
      "Enter a number:  34\n",
      "Enter a number:  365\n",
      "Enter a number:  36546\n",
      "Enter a number:  -34\n"
     ]
    },
    {
     "name": "stdout",
     "output_type": "stream",
     "text": [
      "Total sum of the numbers entered: 36945.0\n"
     ]
    }
   ],
   "source": [
    "total_sum = 0\n",
    "while True:\n",
    "    number = float(input(\"Enter a number: \"))\n",
    "    if number < 0:\n",
    "        break\n",
    "    total_sum += number\n",
    "print(\"Total sum of the numbers entered:\", total_sum)"
   ]
  },
  {
   "cell_type": "code",
   "execution_count": 19,
   "id": "b0659b28-acbe-4e41-a393-1f2055551489",
   "metadata": {},
   "outputs": [
    {
     "name": "stdin",
     "output_type": "stream",
     "text": [
      "Enter a positive integer:  5\n"
     ]
    },
    {
     "name": "stdout",
     "output_type": "stream",
     "text": [
      "The factorial is: 120\n"
     ]
    }
   ],
   "source": [
    "number = int(input(\"Enter a positive integer: \"))\n",
    "factorial = 1\n",
    "if number < 0:\n",
    "    print(\"Please enter a positive integer.\")\n",
    "else:\n",
    "    while number > 1:\n",
    "        factorial *= number  \n",
    "        number -= 1          \n",
    "    print(\"The factorial is:\", factorial)"
   ]
  },
  {
   "cell_type": "code",
   "execution_count": 21,
   "id": "e98c4701-169d-4ef3-8cea-6419ff371a29",
   "metadata": {},
   "outputs": [
    {
     "name": "stdin",
     "output_type": "stream",
     "text": [
      "Enter a number (or 'done' to stop):  39\n",
      "Enter a number (or 'done' to stop):  r57\n"
     ]
    },
    {
     "name": "stdout",
     "output_type": "stream",
     "text": [
      "Invalid input. Please enter a valid number or 'done' to stop.\n"
     ]
    },
    {
     "name": "stdin",
     "output_type": "stream",
     "text": [
      "Enter a number (or 'done' to stop):  done\n"
     ]
    },
    {
     "name": "stdout",
     "output_type": "stream",
     "text": [
      "The average of the entered numbers is: 39.0\n"
     ]
    }
   ],
   "source": [
    "total_sum = 0\n",
    "count = 0\n",
    "while True:\n",
    "    user_input = input(\"Enter a number (or 'done' to stop): \")\n",
    "    if user_input.lower() == 'done':\n",
    "        break\n",
    "    try:\n",
    "        number = float(user_input)\n",
    "        total_sum += number  \n",
    "        count += 1            \n",
    "    except ValueError:\n",
    "        print(\"Invalid input. Please enter a valid number or 'done' to stop.\")\n",
    "if count > 0:\n",
    "    average = total_sum / count\n",
    "    print(f\"The average of the entered numbers is: {average}\")\n",
    "else:\n",
    "    print(\"No valid numbers entered.\")"
   ]
  },
  {
   "cell_type": "code",
   "execution_count": 23,
   "id": "8d89f724-0b57-4917-bc01-f19c7d9c61ff",
   "metadata": {},
   "outputs": [
    {
     "name": "stdin",
     "output_type": "stream",
     "text": [
      "Enter a positive integer n to generate the Fibonacci sequence up to:  40\n"
     ]
    },
    {
     "name": "stdout",
     "output_type": "stream",
     "text": [
      "Fibonacci sequence up to 40 :\n",
      "0 1 1 2 3 5 8 13 21 34 "
     ]
    }
   ],
   "source": [
    "n = int(input(\"Enter a positive integer n to generate the Fibonacci sequence up to: \"))\n",
    "a, b = 0, 1\n",
    "if n <= 0:\n",
    "    print(\"Please enter a positive integer.\")\n",
    "else:\n",
    "    print(\"Fibonacci sequence up to\", n, \":\")\n",
    "    while a <= n:\n",
    "        print(a, end=\" \")\n",
    "        a, b = b, a + b "
   ]
  },
  {
   "cell_type": "code",
   "execution_count": null,
   "id": "3cd911fe-b630-4e9c-a12b-6af3c8951e19",
   "metadata": {},
   "outputs": [],
   "source": [
    "import random\n",
    "secret_number = random.randint(1, 100)\n",
    "print(\"Welcome to the Number Guessing Game!\")\n",
    "print(\"I have selected a number between 1 and 100. Try to guess it!\")\n",
    "while True:\n",
    "    guess = int(input(\"Enter your guess: \"))\n",
    "    if guess == secret_number:\n",
    "        print(\"Congratulations! You guessed the correct number.\")\n",
    "        break \n",
    "    elif guess < secret_number:\n",
    "        print(\"Too low! Try again.\")\n",
    "    else:\n",
    "        print(\"Too high! Try again.\")"
   ]
  },
  {
   "cell_type": "code",
   "execution_count": null,
   "id": "e3056e50-8cba-4d3d-a49e-1b81b8ff56f5",
   "metadata": {},
   "outputs": [],
   "source": []
  }
 ],
 "metadata": {
  "kernelspec": {
   "display_name": "Python 3 (ipykernel)",
   "language": "python",
   "name": "python3"
  },
  "language_info": {
   "codemirror_mode": {
    "name": "ipython",
    "version": 3
   },
   "file_extension": ".py",
   "mimetype": "text/x-python",
   "name": "python",
   "nbconvert_exporter": "python",
   "pygments_lexer": "ipython3",
   "version": "3.12.4"
  }
 },
 "nbformat": 4,
 "nbformat_minor": 5
}
